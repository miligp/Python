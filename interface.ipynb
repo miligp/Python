{
 "cells": [
  {
   "cell_type": "code",
   "execution_count": 9,
   "metadata": {},
   "outputs": [],
   "source": [
    "import ipywidgets as widgets\n",
    "from IPython.display import display, clear_output\n",
    "from Recherche import SearchEngine\n",
    "from Corpus import Corpus\n"
   ]
  },
  {
   "cell_type": "code",
   "execution_count": 10,
   "metadata": {},
   "outputs": [
    {
     "name": "stdout",
     "output_type": "stream",
     "text": [
      "29343 mots dans le corpus.\n",
      "Mots les plus fréquents :\n",
      "the     1080\n",
      "and     1052\n",
      "food     858\n",
      "to       845\n",
      "of       786\n",
      "a        569\n",
      "in       420\n",
      "I        364\n",
      "for      318\n",
      "is       301\n",
      "\n",
      "Construction du vocabulaire...\n",
      "Vocabulaire construit : 6676 mots.\n",
      "\n",
      "Construction de la matrice TF...\n",
      "Matrice TF construite : (200, 6676).\n",
      "\n",
      "Construction de la matrice TF-IDF...\n",
      "Matrice TF-IDF construite : (200, 6676).\n"
     ]
    }
   ],
   "source": [
    "corpus = Corpus.load(\"Food_corpus.pkl\")\n",
    "moteur = SearchEngine(corpus)\n",
    "#titre\n",
    "title_label = widgets.Label(value=\"moteur de recherche\")\n",
    "#champ mots cles \n",
    "keyword_input = widgets.Text(\n",
    "    description=\"Mot-clé :\",\n",
    "    placeholder=\"Entrez un mot-clé\"\n",
    ")\n",
    "#curseur\n",
    "result_slider = widgets.IntSlider(\n",
    "    value=5,\n",
    "    min=1,\n",
    "    max=20,\n",
    "    step=1,\n",
    "    description=\"nb artciles à extraire :\"\n",
    ")\n",
    "\n",
    "output_area = widgets.Output()\n",
    "search_button = widgets.Button(description=\"Rechercher\")\n"
   ]
  },
  {
   "cell_type": "code",
   "execution_count": 11,
   "metadata": {},
   "outputs": [],
   "source": [
    "#gerer les actions, ici chercher \n",
    "def on_search_button_click(b):\n",
    "    with output_area:\n",
    "        clear_output()  #supp ce qu'il ya avant \n",
    "        keyword = keyword_input.value  # on recupere le mot clé\n",
    "        num_results = result_slider.value  \n",
    "\n",
    "        # Recherche dans le moteur \n",
    "        results = moteur.search(keyword, n_results=num_results)\n",
    "\n",
    "        if not results.empty:\n",
    "            print(f\"Résultats pour le mot-clé '{keyword}' :\")\n",
    "            display(results)\n",
    "        else:\n",
    "            print(f\"Aucun résultat trouvé pour '{keyword}'.\")\n",
    "\n",
    "search_button.on_click(on_search_button_click)\n",
    "\n"
   ]
  },
  {
   "cell_type": "code",
   "execution_count": 12,
   "metadata": {},
   "outputs": [
    {
     "data": {
      "application/vnd.jupyter.widget-view+json": {
       "model_id": "36dcaa5cc98745a2bb020cbb65dfee55",
       "version_major": 2,
       "version_minor": 0
      },
      "text/plain": [
       "VBox(children=(VBox(children=(Label(value='moteur de recherche'), Text(value='', description='Mot-clé :', plac…"
      ]
     },
     "metadata": {},
     "output_type": "display_data"
    }
   ],
   "source": [
    "input_box = widgets.VBox([title_label, keyword_input, result_slider])\n",
    "interface = widgets.VBox([input_box, search_button, output_area])\n",
    "display(interface)\n"
   ]
  }
 ],
 "metadata": {
  "kernelspec": {
   "display_name": ".env",
   "language": "python",
   "name": "python3"
  },
  "language_info": {
   "codemirror_mode": {
    "name": "ipython",
    "version": 3
   },
   "file_extension": ".py",
   "mimetype": "text/x-python",
   "name": "python",
   "nbconvert_exporter": "python",
   "pygments_lexer": "ipython3",
   "version": "3.13.1"
  }
 },
 "nbformat": 4,
 "nbformat_minor": 2
}
